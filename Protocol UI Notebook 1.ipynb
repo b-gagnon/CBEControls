{
 "cells": [
  {
   "cell_type": "markdown",
   "metadata": {},
   "source": [
    "# Protocol UI\n",
    "## Isaac Nordan, Brooke Gagnon, Kevin O'Donnell"
   ]
  },
  {
   "cell_type": "code",
   "execution_count": 19,
   "metadata": {},
   "outputs": [],
   "source": [
    "%matplotlib inline\n",
    "\n",
    "import ipywidgets as widgets\n",
    "from IPython.display import display\n",
    "import numpy as np\n",
    "import matplotlib.pyplot as plt\n",
    "import pandas as pd\n",
    "\n",
    "def PCR_thermal_cycle(filename):\n",
    "    x=[]\n",
    "    filename_text = widgets.Text(value=filename, description=\"Filename\")\n",
    "    heat_rate = widgets.FloatSlider(value = 0.5, min=0.1, max=2, step=0.01, description='Heat Rate')\n",
    "    cool_rate = widgets.FloatSlider(value = 0.5, min=0.1, max=2, step=0.01, description='Cooling Rate')\n",
    "    \n",
    "    # initial denaturation \n",
    "    init_den_label = widgets.Label('Initial Denaturation', layout=widgets.Layout(width='80px'))\n",
    "    init_den_temp = widgets.FloatSlider(value=94, min=92, max=98, step=0.1, description='Temperature', readout_format='0.1f')\n",
    "    init_den_dur = widgets.BoundedIntText(value=90, min=60, max=120, step=1, description='Duration')\n",
    "    init_den = widgets.HBox([init_den_label, init_den_temp, init_den_dur])\n",
    "    \n",
    "    # cycles\n",
    "    cycles = widgets.IntSlider(value=12, min=1, max=30, description=\"PCR Cycles\")\n",
    "    \n",
    "    # annealing\n",
    "    annealing_label = widgets.Label('Annealing', layout=widgets.Layout(width='80px'))\n",
    "    annealing_temp = widgets.FloatSlider(value=60, min=50, max=65, step=0.1, description='Temperature', readout_format='0.1f')\n",
    "    annealing_dur = widgets.BoundedIntText(value=60, min=30, max=120, step=1, description='Duration')\n",
    "    annealing = widgets.HBox([annealing_label, annealing_temp, annealing_dur])\n",
    "    \n",
    "    # extension\n",
    "    extension_label = widgets.Label('Extension', layout=widgets.Layout(width='80px'))\n",
    "    extension_temp = widgets.FloatSlider(value=70, min=68, max=72, step=0.1, description='Temperature', readout_format='0.1f')\n",
    "    extension_dur = widgets.BoundedIntText(value=50, min=30, max=180, step=1, description='Duration')\n",
    "    extension = widgets.HBox([extension_label, extension_temp, extension_dur])\n",
    "    \n",
    "    # denaturation\n",
    "    denaturation_label = widgets.Label('Denaturation', layout=widgets.Layout(width='80px'))\n",
    "    denaturation_temp = init_den_temp\n",
    "    denaturation_dur = widgets.BoundedIntText(value=60, min=30, max=120, step=1, description='Duration')\n",
    "    denaturation = widgets.HBox([denaturation_label, denaturation_temp, denaturation_dur])\n",
    "    \n",
    "    # final extension\n",
    "    final_label = widgets.Label('Final Extension',layout=widgets.Layout(width='80px'))\n",
    "    final_temp = widgets.FloatSlider(value=94, min=92, max=98, step=0.1, description='Temperature', readout_format='0.1f')\n",
    "    final_dur = widgets.BoundedIntText(value=100, min=30, max=300, step=1, description='Duration')\n",
    "    final = widgets.HBox([final_label, final_dur])\n",
    "    \n",
    "    def create_setpoint_trajectory(\n",
    "            filename_text,\n",
    "            init_den_temp, init_den_dur, cycles,\n",
    "            denaturation_temp, denaturation_dur, \n",
    "            annealing_temp, annealing_dur,\n",
    "            extension_temp, extension_dur,final_dur):\n",
    "        Ta = 22\n",
    "        tp = [0]\n",
    "        Tp = [Ta]\n",
    "        \n",
    "        df= pd.DataFrame()\n",
    "        df.to_csv(filename_text)\n",
    "    \n",
    "    # display\n",
    "    display(filename_text)\n",
    "    display(init_den)\n",
    "    display(cycles)\n",
    "    display(denaturation)\n",
    "    display(annealing)\n",
    "    display(extension)\n",
    "    display(final)\n",
    "    \n",
    "    \n",
    "    out = widgets.interactive_output(create_setpoint_trajectory,{\n",
    "        'filename_text': filename_text,\n",
    "        'init_den_temp': init_den_temp, \n",
    "        'init_den_dur': init_den_dur,\n",
    "        'cycles': cycles,\n",
    "        'denaturation_temp': denaturation_temp,\n",
    "        'denaturation_dur': denaturation_dur,\n",
    "        'annealing_temp': annealing_temp,\n",
    "        'annealing_dur': annealing_dur,\n",
    "        'extension_temp': extension_temp,\n",
    "        'extension_dur': extension_dur,\n",
    "        'final_dur': final_dur\n",
    "        })\n",
    "    \n",
    "    display(out)"
   ]
  },
  {
   "cell_type": "markdown",
   "metadata": {},
   "source": [
    "# PCR Thermal Profile for Heater 1"
   ]
  },
  {
   "cell_type": "code",
   "execution_count": 20,
   "metadata": {},
   "outputs": [
    {
     "data": {
      "application/vnd.jupyter.widget-view+json": {
       "model_id": "b432643d85434442be6e1c30a43b3009",
       "version_major": 2,
       "version_minor": 0
      },
      "text/plain": [
       "Text(value='pcr/pcr1.csv', description='Filename')"
      ]
     },
     "metadata": {},
     "output_type": "display_data"
    },
    {
     "data": {
      "application/vnd.jupyter.widget-view+json": {
       "model_id": "b609a6b2f00f4318a3d58bee62b6629a",
       "version_major": 2,
       "version_minor": 0
      },
      "text/plain": [
       "HBox(children=(Label(value='Initial Denaturation', layout=Layout(width='80px')), FloatSlider(value=94.0, descr…"
      ]
     },
     "metadata": {},
     "output_type": "display_data"
    },
    {
     "data": {
      "application/vnd.jupyter.widget-view+json": {
       "model_id": "b7d38cf819c94b288f68d1bbf6f57b10",
       "version_major": 2,
       "version_minor": 0
      },
      "text/plain": [
       "IntSlider(value=12, description='PCR Cycles', max=30, min=1)"
      ]
     },
     "metadata": {},
     "output_type": "display_data"
    },
    {
     "data": {
      "application/vnd.jupyter.widget-view+json": {
       "model_id": "cb884fc9297542eb86ddd9846ce43d5a",
       "version_major": 2,
       "version_minor": 0
      },
      "text/plain": [
       "HBox(children=(Label(value='Denaturation', layout=Layout(width='80px')), FloatSlider(value=94.0, description='…"
      ]
     },
     "metadata": {},
     "output_type": "display_data"
    },
    {
     "data": {
      "application/vnd.jupyter.widget-view+json": {
       "model_id": "c36fda2087ce4bfbb58baa94e2eb9e73",
       "version_major": 2,
       "version_minor": 0
      },
      "text/plain": [
       "HBox(children=(Label(value='Annealing', layout=Layout(width='80px')), FloatSlider(value=60.0, description='Tem…"
      ]
     },
     "metadata": {},
     "output_type": "display_data"
    },
    {
     "data": {
      "application/vnd.jupyter.widget-view+json": {
       "model_id": "d999788f104146cb9c132c9480b6b4e0",
       "version_major": 2,
       "version_minor": 0
      },
      "text/plain": [
       "HBox(children=(Label(value='Extension', layout=Layout(width='80px')), FloatSlider(value=70.0, description='Tem…"
      ]
     },
     "metadata": {},
     "output_type": "display_data"
    },
    {
     "data": {
      "application/vnd.jupyter.widget-view+json": {
       "model_id": "e5c42497fb8e45639c0d0a13a189a2ff",
       "version_major": 2,
       "version_minor": 0
      },
      "text/plain": [
       "HBox(children=(Label(value='Final Extension', layout=Layout(width='80px')), BoundedIntText(value=100, descript…"
      ]
     },
     "metadata": {},
     "output_type": "display_data"
    },
    {
     "data": {
      "application/vnd.jupyter.widget-view+json": {
       "model_id": "d5c1f75a5506417eb88b5aa126c2031c",
       "version_major": 2,
       "version_minor": 0
      },
      "text/plain": [
       "Output()"
      ]
     },
     "metadata": {},
     "output_type": "display_data"
    }
   ],
   "source": [
    "PCR_thermal_cycle('pcr/pcr1.csv')"
   ]
  },
  {
   "cell_type": "markdown",
   "metadata": {},
   "source": [
    "# PCR Thermal Profile for Heater 1"
   ]
  },
  {
   "cell_type": "code",
   "execution_count": 21,
   "metadata": {},
   "outputs": [
    {
     "data": {
      "application/vnd.jupyter.widget-view+json": {
       "model_id": "f3496e641fe547cbb2df4b9187bfdda7",
       "version_major": 2,
       "version_minor": 0
      },
      "text/plain": [
       "Text(value='pcr/pcr2.csv', description='Filename')"
      ]
     },
     "metadata": {},
     "output_type": "display_data"
    },
    {
     "data": {
      "application/vnd.jupyter.widget-view+json": {
       "model_id": "81a727cd28e84522bbd7962877ec658e",
       "version_major": 2,
       "version_minor": 0
      },
      "text/plain": [
       "HBox(children=(Label(value='Initial Denaturation', layout=Layout(width='80px')), FloatSlider(value=94.0, descr…"
      ]
     },
     "metadata": {},
     "output_type": "display_data"
    },
    {
     "data": {
      "application/vnd.jupyter.widget-view+json": {
       "model_id": "22d3478300464d2abecea88c5730f7fc",
       "version_major": 2,
       "version_minor": 0
      },
      "text/plain": [
       "IntSlider(value=12, description='PCR Cycles', max=30, min=1)"
      ]
     },
     "metadata": {},
     "output_type": "display_data"
    },
    {
     "data": {
      "application/vnd.jupyter.widget-view+json": {
       "model_id": "cd9f79afac934438b17b60e93b567c7c",
       "version_major": 2,
       "version_minor": 0
      },
      "text/plain": [
       "HBox(children=(Label(value='Denaturation', layout=Layout(width='80px')), FloatSlider(value=94.0, description='…"
      ]
     },
     "metadata": {},
     "output_type": "display_data"
    },
    {
     "data": {
      "application/vnd.jupyter.widget-view+json": {
       "model_id": "bb9bef56b3b144ae8460af15dc967217",
       "version_major": 2,
       "version_minor": 0
      },
      "text/plain": [
       "HBox(children=(Label(value='Annealing', layout=Layout(width='80px')), FloatSlider(value=60.0, description='Tem…"
      ]
     },
     "metadata": {},
     "output_type": "display_data"
    },
    {
     "data": {
      "application/vnd.jupyter.widget-view+json": {
       "model_id": "2401592a9e3e44a299adbb037c8d666c",
       "version_major": 2,
       "version_minor": 0
      },
      "text/plain": [
       "HBox(children=(Label(value='Extension', layout=Layout(width='80px')), FloatSlider(value=70.0, description='Tem…"
      ]
     },
     "metadata": {},
     "output_type": "display_data"
    },
    {
     "data": {
      "application/vnd.jupyter.widget-view+json": {
       "model_id": "d3134087192a4331b99e0349888cbfd9",
       "version_major": 2,
       "version_minor": 0
      },
      "text/plain": [
       "HBox(children=(Label(value='Final Extension', layout=Layout(width='80px')), BoundedIntText(value=100, descript…"
      ]
     },
     "metadata": {},
     "output_type": "display_data"
    },
    {
     "data": {
      "application/vnd.jupyter.widget-view+json": {
       "model_id": "f7e6235ef49a4f3eb3bde4dd6e4a6e46",
       "version_major": 2,
       "version_minor": 0
      },
      "text/plain": [
       "Output()"
      ]
     },
     "metadata": {},
     "output_type": "display_data"
    }
   ],
   "source": [
    "PCR_thermal_cycle('pcr/pcr2.csv')"
   ]
  },
  {
   "cell_type": "code",
   "execution_count": null,
   "metadata": {},
   "outputs": [],
   "source": []
  }
 ],
 "metadata": {
  "kernelspec": {
   "display_name": "Python 3",
   "language": "python",
   "name": "python3"
  },
  "language_info": {
   "codemirror_mode": {
    "name": "ipython",
    "version": 3
   },
   "file_extension": ".py",
   "mimetype": "text/x-python",
   "name": "python",
   "nbconvert_exporter": "python",
   "pygments_lexer": "ipython3",
   "version": "3.7.4"
  }
 },
 "nbformat": 4,
 "nbformat_minor": 2
}
