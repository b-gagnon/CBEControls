{
 "cells": [
  {
   "cell_type": "code",
   "execution_count": 37,
   "metadata": {},
   "outputs": [
    {
     "data": {
      "application/vnd.jupyter.widget-view+json": {
       "model_id": "d50dc572b3734ba68fc80f8d4466d21a",
       "version_major": 2,
       "version_minor": 0
      },
      "text/plain": [
       "HBox(children=(Button(button_style='success', description='Start', style=ButtonStyle()), Button(description='S…"
      ]
     },
     "metadata": {},
     "output_type": "display_data"
    }
   ],
   "source": [
    "%matplotlib notebook\n",
    "\n",
    "from IPython.display import display\n",
    "import ipywidgets as widgets\n",
    "import tclab\n",
    "import threading\n",
    "import datetime\n",
    "import matplotlib.pyplot as plt\n",
    "import pandas as pd\n",
    "import numpy as np\n",
    "\n",
    "\n",
    "\n",
    "\n",
    "# widgets\n",
    "start = widgets.Button(description=\"Start\", button_style=\"success\")\n",
    "stop = widgets.Button(description=\"Stop\", button_style=\"\")\n",
    "\n",
    "\n",
    "# actions\n",
    "def start_button_clicked(b):\n",
    "    stop.value = False\n",
    "    start.button_style = \"\"\n",
    "    stop.button_style=\"success\"\n",
    "    thread.start()\n",
    "start.on_click(start_button_clicked)\n",
    "\n",
    "def stop_button_clicked(b):\n",
    "    stop.value = True\n",
    "    stop.button_style = \"\"\n",
    "    thread.join()\n",
    "stop.on_click(stop_button_clicked)\n",
    "\n",
    "# START THINGS UP\n",
    "display(widgets.HBox([start, stop]))"
   ]
  },
  {
   "cell_type": "code",
   "execution_count": 34,
   "metadata": {},
   "outputs": [
    {
     "data": {
      "application/vnd.jupyter.widget-view+json": {
       "model_id": "4cf6b2b6219841709bc436ac3fae1555",
       "version_major": 2,
       "version_minor": 0
      },
      "text/plain": [
       "interactive(children=(Combobox(value='pcr/pcr1.csv', description='file1', ensure_option=True, options=('pcr/pc…"
      ]
     },
     "metadata": {},
     "output_type": "display_data"
    },
    {
     "data": {
      "text/plain": [
       "<function __main__.get_data(file1, file2)>"
      ]
     },
     "execution_count": 34,
     "metadata": {},
     "output_type": "execute_result"
    }
   ],
   "source": [
    "import glob\n",
    "csv_files = glob.glob(\"pcr/*.csv\")\n",
    "\n",
    "def get_data(file1, file2):\n",
    "    fig, ax = plt.subplots(1,2, figsize=(12,5))\n",
    "    if file1:\n",
    "        df1 = pd.read_csv(file1)\n",
    "        ax[0].plot(df1['tp'], df1['Tp'], 'b')\n",
    "    if file2:\n",
    "        df2 = pd.read_csv(file2)\n",
    "        ax[0].plot(df2['tp'], df2['Tp'], 'r')\n",
    "    ax[0].grid(True)\n",
    "    if file1 and file2:\n",
    "        tmax = max(df1['tp'].max(), df2['tp'].max())\n",
    "        t = np.linspace(0, tmax, int(tmax+1))\n",
    "        u1 = np.interp(t, df1['tp'].to_numpy(), df1['Tp'].to_numpy())\n",
    "        u2 = np.interp(t, df2['tp'].to_numpy(), df2['Tp'].to_numpy())\n",
    "        ax[1].plot(u1, u2)\n",
    "        ax[1].axis('square')\n",
    "\n",
    "widgets.interact(get_data, \n",
    "    file1 = widgets.Combobox(value=\"pcr/pcr1.csv\", options=csv_files, ensure_option=True),\n",
    "    file2 =  widgets.Combobox(value=\"pcr/pcr2.csv\", options=csv_files, ensure_option=True)\n",
    ")"
   ]
  },
  {
   "cell_type": "code",
   "execution_count": null,
   "metadata": {},
   "outputs": [],
   "source": []
  }
 ],
 "metadata": {
  "kernelspec": {
   "display_name": "Python 3",
   "language": "python",
   "name": "python3"
  },
  "language_info": {
   "codemirror_mode": {
    "name": "ipython",
    "version": 3
   },
   "file_extension": ".py",
   "mimetype": "text/x-python",
   "name": "python",
   "nbconvert_exporter": "python",
   "pygments_lexer": "ipython3",
   "version": "3.7.4"
  }
 },
 "nbformat": 4,
 "nbformat_minor": 2
}
